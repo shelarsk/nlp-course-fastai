{
  "nbformat": 4,
  "nbformat_minor": 0,
  "metadata": {
    "colab": {
      "name": "nlp-course-fastai.ipynb",
      "provenance": [],
      "include_colab_link": true
    },
    "kernelspec": {
      "name": "python3",
      "display_name": "Python 3"
    }
  },
  "cells": [
    {
      "cell_type": "markdown",
      "metadata": {
        "id": "view-in-github",
        "colab_type": "text"
      },
      "source": [
        "<a href=\"https://colab.research.google.com/github/shelarsk/nlp-course-fastai/blob/master/nlp_course_fastai.ipynb\" target=\"_parent\"><img src=\"https://colab.research.google.com/assets/colab-badge.svg\" alt=\"Open In Colab\"/></a>"
      ]
    },
    {
      "cell_type": "code",
      "metadata": {
        "id": "xweC7rG9-xFs",
        "colab_type": "code",
        "outputId": "d426a0a2-9859-4da9-b307-a6c65c9f574b",
        "colab": {
          "base_uri": "https://localhost:8080/",
          "height": 68
        }
      },
      "source": [
        "import nltk\n",
        "nltk.download('wordnet')"
      ],
      "execution_count": 0,
      "outputs": [
        {
          "output_type": "stream",
          "text": [
            "[nltk_data] Downloading package wordnet to /root/nltk_data...\n",
            "[nltk_data]   Unzipping corpora/wordnet.zip.\n"
          ],
          "name": "stdout"
        },
        {
          "output_type": "execute_result",
          "data": {
            "text/plain": [
              "True"
            ]
          },
          "metadata": {
            "tags": []
          },
          "execution_count": 1
        }
      ]
    },
    {
      "cell_type": "code",
      "metadata": {
        "id": "9XqIroL9_Mmt",
        "colab_type": "code",
        "colab": {}
      },
      "source": [
        "from nltk import stem"
      ],
      "execution_count": 0,
      "outputs": []
    },
    {
      "cell_type": "code",
      "metadata": {
        "id": "frPHN5AA_QxP",
        "colab_type": "code",
        "colab": {}
      },
      "source": [
        "wnl = stem.WordNetLemmatizer()\n",
        "porter = stem.porter.PorterStemmer()"
      ],
      "execution_count": 0,
      "outputs": []
    },
    {
      "cell_type": "code",
      "metadata": {
        "id": "h5khHSufAM0z",
        "colab_type": "code",
        "colab": {}
      },
      "source": [
        "word_list = ['feet', 'feets','foots', 'foot','footing' , 'fly', 'flies', 'flying','organize', 'organizes', 'organizing', 'universe', 'university']"
      ],
      "execution_count": 0,
      "outputs": []
    },
    {
      "cell_type": "code",
      "metadata": {
        "id": "QKSu-qm8AX-R",
        "colab_type": "code",
        "outputId": "e605493d-1cb2-404e-b09f-00fa9f89e3af",
        "colab": {
          "base_uri": "https://localhost:8080/",
          "height": 238
        }
      },
      "source": [
        "[wnl.lemmatize(word) for word in word_list ]"
      ],
      "execution_count": 0,
      "outputs": [
        {
          "output_type": "execute_result",
          "data": {
            "text/plain": [
              "['foot',\n",
              " 'feets',\n",
              " 'foot',\n",
              " 'foot',\n",
              " 'footing',\n",
              " 'fly',\n",
              " 'fly',\n",
              " 'flying',\n",
              " 'organize',\n",
              " 'organizes',\n",
              " 'organizing',\n",
              " 'universe',\n",
              " 'university']"
            ]
          },
          "metadata": {
            "tags": []
          },
          "execution_count": 8
        }
      ]
    },
    {
      "cell_type": "code",
      "metadata": {
        "id": "OjooYtl1AuNn",
        "colab_type": "code",
        "outputId": "2aa8548a-280f-4eaf-e463-789a30538ee3",
        "colab": {
          "base_uri": "https://localhost:8080/",
          "height": 238
        }
      },
      "source": [
        "[porter.stem(word) for word in word_list]"
      ],
      "execution_count": 0,
      "outputs": [
        {
          "output_type": "execute_result",
          "data": {
            "text/plain": [
              "['feet',\n",
              " 'feet',\n",
              " 'foot',\n",
              " 'foot',\n",
              " 'foot',\n",
              " 'fli',\n",
              " 'fli',\n",
              " 'fli',\n",
              " 'organ',\n",
              " 'organ',\n",
              " 'organ',\n",
              " 'univers',\n",
              " 'univers']"
            ]
          },
          "metadata": {
            "tags": []
          },
          "execution_count": 9
        }
      ]
    },
    {
      "cell_type": "code",
      "metadata": {
        "id": "RA6kYopgBQsu",
        "colab_type": "code",
        "outputId": "b349cfe7-7aeb-4ef6-9a3a-d8dd24b0eb41",
        "colab": {
          "base_uri": "https://localhost:8080/",
          "height": 238
        }
      },
      "source": [
        "import spacy\n",
        "from spacy.lemmatizer import Lemmatizer\n",
        "lemmatizer = Lemmatizer()\n",
        "\n",
        "[lemmatizer.lookup(word) for word in word_list]"
      ],
      "execution_count": 0,
      "outputs": [
        {
          "output_type": "execute_result",
          "data": {
            "text/plain": [
              "['feet',\n",
              " 'feets',\n",
              " 'foots',\n",
              " 'foot',\n",
              " 'footing',\n",
              " 'fly',\n",
              " 'flies',\n",
              " 'flying',\n",
              " 'organize',\n",
              " 'organizes',\n",
              " 'organizing',\n",
              " 'universe',\n",
              " 'university']"
            ]
          },
          "metadata": {
            "tags": []
          },
          "execution_count": 11
        }
      ]
    },
    {
      "cell_type": "code",
      "metadata": {
        "id": "rpR2Idd2ErxM",
        "colab_type": "code",
        "outputId": "020bae21-f915-49fd-e3b6-4914ded4724e",
        "colab": {
          "base_uri": "https://localhost:8080/",
          "height": 34
        }
      },
      "source": [
        "nlp = spacy.load('en_core_web_sm')\n",
        "len(sorted(list(nlp.Defaults.stop_words)))"
      ],
      "execution_count": 0,
      "outputs": [
        {
          "output_type": "execute_result",
          "data": {
            "text/plain": [
              "326"
            ]
          },
          "metadata": {
            "tags": []
          },
          "execution_count": 22
        }
      ]
    },
    {
      "cell_type": "code",
      "metadata": {
        "id": "xiyMwiQQGJqw",
        "colab_type": "code",
        "outputId": "f9e329d7-b45e-4202-9003-041a40f20b31",
        "colab": {
          "base_uri": "https://localhost:8080/",
          "height": 68
        }
      },
      "source": [
        "nltk.download('stopwords')\n",
        "from nltk.corpus import stopwords\n",
        "stopwords_list = set(stopwords.words('english'))\n",
        "len(stopwords_list) "
      ],
      "execution_count": 0,
      "outputs": [
        {
          "output_type": "stream",
          "text": [
            "[nltk_data] Downloading package stopwords to /root/nltk_data...\n",
            "[nltk_data]   Unzipping corpora/stopwords.zip.\n"
          ],
          "name": "stdout"
        },
        {
          "output_type": "execute_result",
          "data": {
            "text/plain": [
              "179"
            ]
          },
          "metadata": {
            "tags": []
          },
          "execution_count": 26
        }
      ]
    },
    {
      "cell_type": "code",
      "metadata": {
        "id": "r3VjSWdtFJ3g",
        "colab_type": "code",
        "colab": {}
      },
      "source": [
        ""
      ],
      "execution_count": 0,
      "outputs": []
    }
  ]
}